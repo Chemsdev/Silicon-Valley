{
 "cells": [
  {
   "cell_type": "code",
   "execution_count": 37,
   "id": "67f9bdf4",
   "metadata": {},
   "outputs": [],
   "source": [
    "# Librairies\n",
    "import pandas as pd\n",
    "import numpy as np\n",
    "import seaborn as sns \n",
    "import matplotlib.pyplot as plt\n",
    "\n",
    "# Model Regression Lineair\n",
    "from sklearn.linear_model import LinearRegression\n",
    "from sklearn.model_selection import train_test_split\n",
    "from sklearn.model_selection import cross_val_score\n",
    "from sklearn.model_selection import cross_validate\n",
    "\n",
    "# Cleaning\n",
    "from sklearn import svm\n",
    "from sklearn.impute import KNNImputer\n",
    "from sklearn.impute import MissingIndicator\n",
    "\n",
    "# Algorithme Scaling\n",
    "from sklearn.preprocessing import MinMaxScaler\n",
    "from sklearn.preprocessing import StandardScaler\n",
    "from sklearn.preprocessing import RobustScaler"
   ]
  },
  {
   "cell_type": "code",
   "execution_count": 38,
   "id": "4563b5ad",
   "metadata": {},
   "outputs": [],
   "source": [
    "data = pd.read_csv(\"data/06e9c61d-e45f-4d74-beb5-e5e53ac6d2de.csv\")"
   ]
  },
  {
   "cell_type": "code",
   "execution_count": 39,
   "id": "585312b1",
   "metadata": {},
   "outputs": [],
   "source": [
    "robust=[\"longitude\", \"latitude\", \"Age moyen logement\"]\n",
    "standard=[\"Total pieces\", \"Nb personne logement\", \"Salaire median logement\", \"Salaire median logement\"]\n",
    "liste_log=[\"Valeur moyenne logement\"]\n",
    "delete_column=[\"\"]\n",
    "remove_outliers = []"
   ]
  },
  {
   "cell_type": "code",
   "execution_count": 40,
   "id": "e4990a79",
   "metadata": {},
   "outputs": [],
   "source": [
    "def PipeLine(df, delete_column=\"\", outliers=False, liste_robust=0, liste_standard=0, liste_log=0, scaling=False):\n",
    "    \n",
    "    #<=========================================================># \n",
    "    # Renommer les colonnes     \n",
    "    data = df.rename(columns={'Unnamed: 0': 'ID logement', \n",
    "                          'housing_median_age': 'Age moyen logement', \n",
    "                          'total_rooms': 'Total pieces', \n",
    "                          'total_bedrooms': 'Total chambres', \n",
    "                          'population': 'Nb personne logement', \n",
    "                          'households': 'Nb famille logement', \n",
    "                          'median_income': 'Salaire median logement',\n",
    "                          'median_house_value': 'Valeur moyenne logement',\n",
    "                          'ocean_proximity': 'Proximation Ocean'})\n",
    "    # Suppression de la colonne ID_column     \n",
    "    data.drop(['ID logement'], axis=1, inplace=True)\n",
    "    \n",
    "    # Encodage des variables catégorielles     \n",
    "    data = pd.get_dummies(data, columns=['Proximation Ocean'], prefix=[\"\"])\n",
    "\n",
    "    # Suppression des données manquantes     \n",
    "    imputer = KNNImputer(n_neighbors=1)\n",
    "    total_chambres = imputer.fit_transform(data[[\"Total chambres\"]])\n",
    "    data[\"Total chambres\"] = total_chambres\n",
    "    \n",
    "    #<=========================================================># \n",
    "    \n",
    "    # Suppression des Outliers \n",
    "    if outliers:\n",
    "        for i in remove_outliers:\n",
    "            mean = data[i].mean()\n",
    "            std = data[i].std()\n",
    "            outliers = data[(data[i] - mean).abs() > 3*std]\n",
    "            data = data.drop(outliers.index)\n",
    "     \n",
    "    # Préparation du dataset final (on remet les catégories, on sépare la Target...)    \n",
    "    categorie = data[[\"_<1H OCEAN\",\"_INLAND\",\"_ISLAND\",\"_NEAR BAY\",\"_NEAR OCEAN\"]]\n",
    "    Y = data[[\"Valeur moyenne logement\"]]\n",
    "    X = data.drop(columns=[\"Valeur moyenne logement\"], axis=1)\n",
    "    X = pd.concat([X, categorie], axis=1)\n",
    "    \n",
    "    # Suppression des features sélectionner   \n",
    "    if not delete_column == \"\":\n",
    "        X = X.drop(columns=delete_column, axis=1)\n",
    "    \n",
    "    #<=========================================================># \n",
    "    \n",
    "    # Scaling des données     \n",
    "    if scaling:\n",
    "        \n",
    "        # Préparation des algorithmes de Scaling     \n",
    "        robust = RobustScaler()    \n",
    "        standard = StandardScaler()\n",
    "\n",
    "        # Création d'un Dataframe des features sélectionner.   \n",
    "        df_robust   =  X[[i for i in liste_robust]]\n",
    "        df_standard =  X[[i for i in liste_standard]]\n",
    "        \n",
    "        # Scaling des données         \n",
    "        robust.fit_transform(df_robust)\n",
    "        standard.fit_transform(df_standard)\n",
    "        \n",
    "        # Préparation du Dataset       \n",
    "        X = pd.concat([df_robust, df_standard], axis=1)\n",
    "        \n",
    "    #<=========================================================># \n",
    "    \n",
    "    Y =  np.log(Y[[i for i in liste_log]])\n",
    "    score = cross_val_score(LinearRegression(), X, Y, cv=5).mean()\n",
    "    return score"
   ]
  },
  {
   "cell_type": "code",
   "execution_count": 41,
   "id": "fa35e984",
   "metadata": {},
   "outputs": [
    {
     "data": {
      "text/plain": [
       "0.6658728530973806"
      ]
     },
     "execution_count": 41,
     "metadata": {},
     "output_type": "execute_result"
    }
   ],
   "source": [
    "PipeLine(data, \n",
    "         delete_column=\"\", \n",
    "         outliers=True, \n",
    "         scaling=False,\n",
    "         liste_robust=robust, \n",
    "         liste_standard=standard, \n",
    "         liste_log=liste_log,\n",
    "         )"
   ]
  },
  {
   "cell_type": "code",
   "execution_count": null,
   "id": "6b35c7bc",
   "metadata": {},
   "outputs": [],
   "source": []
  }
 ],
 "metadata": {
  "kernelspec": {
   "display_name": "Python 3 (ipykernel)",
   "language": "python",
   "name": "python3"
  },
  "language_info": {
   "codemirror_mode": {
    "name": "ipython",
    "version": 3
   },
   "file_extension": ".py",
   "mimetype": "text/x-python",
   "name": "python",
   "nbconvert_exporter": "python",
   "pygments_lexer": "ipython3",
   "version": "3.8.12"
  },
  "toc": {
   "base_numbering": 1,
   "nav_menu": {},
   "number_sections": true,
   "sideBar": true,
   "skip_h1_title": false,
   "title_cell": "Table of Contents",
   "title_sidebar": "Contents",
   "toc_cell": false,
   "toc_position": {},
   "toc_section_display": true,
   "toc_window_display": false
  }
 },
 "nbformat": 4,
 "nbformat_minor": 5
}
