{
 "cells": [
  {
   "cell_type": "markdown",
   "id": "edc137a9",
   "metadata": {},
   "source": [
    "# Inférence Statistique"
   ]
  },
  {
   "cell_type": "markdown",
   "id": "4fd13a08",
   "metadata": {},
   "source": [
    "### Anova"
   ]
  },
  {
   "cell_type": "code",
   "execution_count": 1,
   "id": "64a3fdff",
   "metadata": {},
   "outputs": [],
   "source": [
    "import numpy as np\n",
    "import pandas as pd\n",
    "from scipy.stats import levene, shapiro, f_oneway\n",
    "from scipy.stats import chi2_contingency\n",
    "import scipy.stats as stats\n",
    "from scipy.stats import pearsonr"
   ]
  },
  {
   "cell_type": "code",
   "execution_count": 2,
   "id": "33d17bbe",
   "metadata": {
    "scrolled": false
   },
   "outputs": [
    {
     "data": {
      "text/html": [
       "<div>\n",
       "<style scoped>\n",
       "    .dataframe tbody tr th:only-of-type {\n",
       "        vertical-align: middle;\n",
       "    }\n",
       "\n",
       "    .dataframe tbody tr th {\n",
       "        vertical-align: top;\n",
       "    }\n",
       "\n",
       "    .dataframe thead th {\n",
       "        text-align: right;\n",
       "    }\n",
       "</style>\n",
       "<table border=\"1\" class=\"dataframe\">\n",
       "  <thead>\n",
       "    <tr style=\"text-align: right;\">\n",
       "      <th></th>\n",
       "      <th>longitude</th>\n",
       "      <th>latitude</th>\n",
       "      <th>Age moyen logement</th>\n",
       "      <th>Total pieces</th>\n",
       "      <th>Total chambres</th>\n",
       "      <th>Nb personne logement</th>\n",
       "      <th>Nb famille logement</th>\n",
       "      <th>Salaire median logement</th>\n",
       "      <th>Valeur moyenne logement</th>\n",
       "      <th>_&lt;1H OCEAN</th>\n",
       "      <th>_INLAND</th>\n",
       "      <th>_ISLAND</th>\n",
       "      <th>_NEAR BAY</th>\n",
       "      <th>_NEAR OCEAN</th>\n",
       "    </tr>\n",
       "  </thead>\n",
       "  <tbody>\n",
       "    <tr>\n",
       "      <th>0</th>\n",
       "      <td>-119.84</td>\n",
       "      <td>36.77</td>\n",
       "      <td>6.0</td>\n",
       "      <td>1853.0</td>\n",
       "      <td>473.0</td>\n",
       "      <td>1397.0</td>\n",
       "      <td>417.0</td>\n",
       "      <td>1.4817</td>\n",
       "      <td>72000.0</td>\n",
       "      <td>0</td>\n",
       "      <td>1</td>\n",
       "      <td>0</td>\n",
       "      <td>0</td>\n",
       "      <td>0</td>\n",
       "    </tr>\n",
       "    <tr>\n",
       "      <th>1</th>\n",
       "      <td>-117.80</td>\n",
       "      <td>33.68</td>\n",
       "      <td>8.0</td>\n",
       "      <td>2032.0</td>\n",
       "      <td>349.0</td>\n",
       "      <td>862.0</td>\n",
       "      <td>340.0</td>\n",
       "      <td>6.9133</td>\n",
       "      <td>274100.0</td>\n",
       "      <td>1</td>\n",
       "      <td>0</td>\n",
       "      <td>0</td>\n",
       "      <td>0</td>\n",
       "      <td>0</td>\n",
       "    </tr>\n",
       "    <tr>\n",
       "      <th>2</th>\n",
       "      <td>-120.19</td>\n",
       "      <td>36.60</td>\n",
       "      <td>25.0</td>\n",
       "      <td>875.0</td>\n",
       "      <td>214.0</td>\n",
       "      <td>931.0</td>\n",
       "      <td>214.0</td>\n",
       "      <td>1.5536</td>\n",
       "      <td>58300.0</td>\n",
       "      <td>0</td>\n",
       "      <td>1</td>\n",
       "      <td>0</td>\n",
       "      <td>0</td>\n",
       "      <td>0</td>\n",
       "    </tr>\n",
       "    <tr>\n",
       "      <th>3</th>\n",
       "      <td>-118.32</td>\n",
       "      <td>34.10</td>\n",
       "      <td>31.0</td>\n",
       "      <td>622.0</td>\n",
       "      <td>229.0</td>\n",
       "      <td>597.0</td>\n",
       "      <td>227.0</td>\n",
       "      <td>1.5284</td>\n",
       "      <td>200000.0</td>\n",
       "      <td>1</td>\n",
       "      <td>0</td>\n",
       "      <td>0</td>\n",
       "      <td>0</td>\n",
       "      <td>0</td>\n",
       "    </tr>\n",
       "    <tr>\n",
       "      <th>4</th>\n",
       "      <td>-121.23</td>\n",
       "      <td>37.79</td>\n",
       "      <td>21.0</td>\n",
       "      <td>1922.0</td>\n",
       "      <td>373.0</td>\n",
       "      <td>1130.0</td>\n",
       "      <td>372.0</td>\n",
       "      <td>4.0815</td>\n",
       "      <td>117900.0</td>\n",
       "      <td>0</td>\n",
       "      <td>1</td>\n",
       "      <td>0</td>\n",
       "      <td>0</td>\n",
       "      <td>0</td>\n",
       "    </tr>\n",
       "  </tbody>\n",
       "</table>\n",
       "</div>"
      ],
      "text/plain": [
       "   longitude  latitude  Age moyen logement  Total pieces  Total chambres  \\\n",
       "0    -119.84     36.77                 6.0        1853.0           473.0   \n",
       "1    -117.80     33.68                 8.0        2032.0           349.0   \n",
       "2    -120.19     36.60                25.0         875.0           214.0   \n",
       "3    -118.32     34.10                31.0         622.0           229.0   \n",
       "4    -121.23     37.79                21.0        1922.0           373.0   \n",
       "\n",
       "   Nb personne logement  Nb famille logement  Salaire median logement  \\\n",
       "0                1397.0                417.0                   1.4817   \n",
       "1                 862.0                340.0                   6.9133   \n",
       "2                 931.0                214.0                   1.5536   \n",
       "3                 597.0                227.0                   1.5284   \n",
       "4                1130.0                372.0                   4.0815   \n",
       "\n",
       "   Valeur moyenne logement _<1H OCEAN  _INLAND  _ISLAND  _NEAR BAY  \\\n",
       "0                  72000.0          0        1        0          0   \n",
       "1                 274100.0          1        0        0          0   \n",
       "2                  58300.0          0        1        0          0   \n",
       "3                 200000.0          1        0        0          0   \n",
       "4                 117900.0          0        1        0          0   \n",
       "\n",
       "   _NEAR OCEAN  \n",
       "0            0  \n",
       "1            0  \n",
       "2            0  \n",
       "3            0  \n",
       "4            0  "
      ]
     },
     "execution_count": 2,
     "metadata": {},
     "output_type": "execute_result"
    }
   ],
   "source": [
    "data = pd.read_csv(\"data/dataset_clean.csv\")\n",
    "data[\"_<1H OCEAN\"] = data[\"_<1H OCEAN\"].apply(str)\n",
    "data.head()"
   ]
  },
  {
   "cell_type": "markdown",
   "id": "f27f7488",
   "metadata": {},
   "source": [
    "#### On commence par le Test Levene. "
   ]
  },
  {
   "cell_type": "markdown",
   "id": "b1484487",
   "metadata": {},
   "source": [
    "On peut constater que la condition n'est pas respectée, nous pouvons donc pas appliquer le test Anova"
   ]
  },
  {
   "cell_type": "code",
   "execution_count": 3,
   "id": "603f38b6",
   "metadata": {},
   "outputs": [
    {
     "name": "stdout",
     "output_type": "stream",
     "text": [
      "Levene : Variance non similaire !\n"
     ]
    }
   ],
   "source": [
    "Alpha = 0.05\n",
    "stat, p = levene(\n",
    "                data[\"Valeur moyenne logement\"][data[\"_<1H OCEAN\"] == \"0\"],\n",
    "                data[\"Valeur moyenne logement\"][data[\"_<1H OCEAN\"] == \"1\"]\n",
    "                )\n",
    "if not p > Alpha:\n",
    "    print(\"Levene : Variance non similaire !\")\n",
    "else:\n",
    "    print(\"Levene : Variance similaire\")\n",
    "    print(f\"P-value = {p}\")"
   ]
  },
  {
   "cell_type": "markdown",
   "id": "a9f5f217",
   "metadata": {},
   "source": [
    "### Test Pearson"
   ]
  },
  {
   "cell_type": "markdown",
   "id": "23b5c2ea",
   "metadata": {},
   "source": [
    "On souhaite réaliser un Test Pearson pour voir la corréliation entre les colonnes qui nous paraissent similaire : <br>\n",
    "=> Total pieces, Total chambres <br>\n",
    "=> Nb personne logement, Nb famille logement"
   ]
  },
  {
   "cell_type": "code",
   "execution_count": 4,
   "id": "4446d8d2",
   "metadata": {},
   "outputs": [],
   "source": [
    "def pearson(X,Y):\n",
    "    corr, p_value = pearsonr(X,Y)\n",
    "    return print(f\"Correlation : {corr}, pvalue : {p}\")"
   ]
  },
  {
   "cell_type": "code",
   "execution_count": 5,
   "id": "404f6756",
   "metadata": {},
   "outputs": [
    {
     "name": "stdout",
     "output_type": "stream",
     "text": [
      "Correlation : 0.9289959669568648, pvalue : 0.0007158357204979268\n"
     ]
    }
   ],
   "source": [
    "pearson(data[\"Total pieces\"], data[\"Total chambres\"])"
   ]
  },
  {
   "cell_type": "code",
   "execution_count": 6,
   "id": "bc544822",
   "metadata": {},
   "outputs": [
    {
     "name": "stdout",
     "output_type": "stream",
     "text": [
      "Correlation : 0.9076469213392173, pvalue : 0.0007158357204979268\n"
     ]
    }
   ],
   "source": [
    "pearson(data[\"Nb personne logement\"], data[\"Nb famille logement\"])"
   ]
  },
  {
   "cell_type": "markdown",
   "id": "a16d3a6f",
   "metadata": {},
   "source": [
    "Comme on peut le constater, la corrélation est forte. Nous pourrons donc à l'avenir conserver 1 colonne de chaque paire."
   ]
  },
  {
   "cell_type": "markdown",
   "id": "3a917d67",
   "metadata": {},
   "source": [
    "#### On veut maintenanr voir si la target et corréler avec la variable Salaire median logement"
   ]
  },
  {
   "cell_type": "code",
   "execution_count": 7,
   "id": "302c153a",
   "metadata": {},
   "outputs": [
    {
     "name": "stdout",
     "output_type": "stream",
     "text": [
      "Correlation : 0.6896592006096155, pvalue : 0.0007158357204979268\n"
     ]
    }
   ],
   "source": [
    "pearson(data[\"Valeur moyenne logement\"], data[\"Salaire median logement\"])"
   ]
  },
  {
   "cell_type": "markdown",
   "id": "f2cfa7fd",
   "metadata": {},
   "source": [
    "#### On veut maintenant voir si les variables catégorielles sont corréler entre-elles"
   ]
  },
  {
   "cell_type": "code",
   "execution_count": 8,
   "id": "ea734fb8",
   "metadata": {},
   "outputs": [],
   "source": [
    "def KHI2(X, Y):\n",
    "    alpha = 0.05\n",
    "    contingency_table = pd.crosstab(X, Y)\n",
    "    chi2, p, dof, expected = chi2_contingency(contingency_table)\n",
    "    print(f\"Statistique de KHI2: {chi2}\")\n",
    "    print(f\"p-value: {p}\")\n",
    "    if p > alpha:\n",
    "        return print(f\"Les données sont indépendantes\")\n",
    "    return print(f\"Les données ne sont pas indépendantes\")"
   ]
  },
  {
   "cell_type": "code",
   "execution_count": 9,
   "id": "b2cdd8ea",
   "metadata": {},
   "outputs": [
    {
     "name": "stdout",
     "output_type": "stream",
     "text": [
      "Statistique de KHI2: 1.6380564107012678\n",
      "p-value: 0.20059234501336845\n",
      "Les données sont indépendantes\n"
     ]
    }
   ],
   "source": [
    "KHI2(data[\"_<1H OCEAN\"], data[\"_ISLAND\"])"
   ]
  },
  {
   "cell_type": "code",
   "execution_count": 10,
   "id": "18405dcf",
   "metadata": {},
   "outputs": [
    {
     "name": "stdout",
     "output_type": "stream",
     "text": [
      "Statistique de KHI2: 303.4678584616521\n",
      "p-value: 5.784369480607379e-68\n",
      "Les données ne sont pas indépendantes\n"
     ]
    }
   ],
   "source": [
    "KHI2(data[\"_NEAR BAY\"], data[\"_NEAR OCEAN\"])"
   ]
  }
 ],
 "metadata": {
  "kernelspec": {
   "display_name": "Python 3 (ipykernel)",
   "language": "python",
   "name": "python3"
  },
  "language_info": {
   "codemirror_mode": {
    "name": "ipython",
    "version": 3
   },
   "file_extension": ".py",
   "mimetype": "text/x-python",
   "name": "python",
   "nbconvert_exporter": "python",
   "pygments_lexer": "ipython3",
   "version": "3.8.12"
  },
  "toc": {
   "base_numbering": 1,
   "nav_menu": {},
   "number_sections": true,
   "sideBar": true,
   "skip_h1_title": false,
   "title_cell": "Table of Contents",
   "title_sidebar": "Contents",
   "toc_cell": false,
   "toc_position": {},
   "toc_section_display": true,
   "toc_window_display": false
  }
 },
 "nbformat": 4,
 "nbformat_minor": 5
}
