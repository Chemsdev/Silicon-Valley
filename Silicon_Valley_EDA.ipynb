{
 "cells": [
  {
   "cell_type": "markdown",
   "id": "4bb45c66",
   "metadata": {},
   "source": [
    "### Préparation des données "
   ]
  },
  {
   "cell_type": "markdown",
   "id": "47c93e26",
   "metadata": {},
   "source": [
    "#### Import des librairies & Acquisition des données "
   ]
  },
  {
   "cell_type": "code",
   "execution_count": 1,
   "id": "0c95eaa9",
   "metadata": {},
   "outputs": [],
   "source": [
    "import pandas as pd\n",
    "import numpy as np\n",
    "import matplotlib.pyplot as plt\n",
    "from sklearn.feature_selection import VarianceThreshold\n",
    "import seaborn as sns\n",
    "import warnings\n",
    "warnings.filterwarnings(\"ignore\", category=Warning)\n",
    "from sklearn.impute import KNNImputer\n",
    "from sklearn.impute import MissingIndicator"
   ]
  },
  {
   "cell_type": "code",
   "execution_count": 2,
   "id": "3729a681",
   "metadata": {},
   "outputs": [],
   "source": [
    "data = pd.read_csv(\"data/06e9c61d-e45f-4d74-beb5-e5e53ac6d2de.csv\")"
   ]
  },
  {
   "cell_type": "code",
   "execution_count": 3,
   "id": "a1a29fb8",
   "metadata": {},
   "outputs": [
    {
     "data": {
      "text/html": [
       "<div>\n",
       "<style scoped>\n",
       "    .dataframe tbody tr th:only-of-type {\n",
       "        vertical-align: middle;\n",
       "    }\n",
       "\n",
       "    .dataframe tbody tr th {\n",
       "        vertical-align: top;\n",
       "    }\n",
       "\n",
       "    .dataframe thead th {\n",
       "        text-align: right;\n",
       "    }\n",
       "</style>\n",
       "<table border=\"1\" class=\"dataframe\">\n",
       "  <thead>\n",
       "    <tr style=\"text-align: right;\">\n",
       "      <th></th>\n",
       "      <th>Unnamed: 0</th>\n",
       "      <th>longitude</th>\n",
       "      <th>latitude</th>\n",
       "      <th>housing_median_age</th>\n",
       "      <th>total_rooms</th>\n",
       "      <th>total_bedrooms</th>\n",
       "      <th>population</th>\n",
       "      <th>households</th>\n",
       "      <th>median_income</th>\n",
       "      <th>median_house_value</th>\n",
       "      <th>ocean_proximity</th>\n",
       "    </tr>\n",
       "  </thead>\n",
       "  <tbody>\n",
       "    <tr>\n",
       "      <th>0</th>\n",
       "      <td>2072</td>\n",
       "      <td>-119.84</td>\n",
       "      <td>36.77</td>\n",
       "      <td>6.0</td>\n",
       "      <td>1853.0</td>\n",
       "      <td>473.0</td>\n",
       "      <td>1397.0</td>\n",
       "      <td>417.0</td>\n",
       "      <td>1.4817</td>\n",
       "      <td>72000.0</td>\n",
       "      <td>INLAND</td>\n",
       "    </tr>\n",
       "    <tr>\n",
       "      <th>1</th>\n",
       "      <td>10600</td>\n",
       "      <td>-117.80</td>\n",
       "      <td>33.68</td>\n",
       "      <td>8.0</td>\n",
       "      <td>2032.0</td>\n",
       "      <td>349.0</td>\n",
       "      <td>862.0</td>\n",
       "      <td>340.0</td>\n",
       "      <td>6.9133</td>\n",
       "      <td>274100.0</td>\n",
       "      <td>&lt;1H OCEAN</td>\n",
       "    </tr>\n",
       "    <tr>\n",
       "      <th>2</th>\n",
       "      <td>2494</td>\n",
       "      <td>-120.19</td>\n",
       "      <td>36.60</td>\n",
       "      <td>25.0</td>\n",
       "      <td>875.0</td>\n",
       "      <td>214.0</td>\n",
       "      <td>931.0</td>\n",
       "      <td>214.0</td>\n",
       "      <td>1.5536</td>\n",
       "      <td>58300.0</td>\n",
       "      <td>INLAND</td>\n",
       "    </tr>\n",
       "    <tr>\n",
       "      <th>3</th>\n",
       "      <td>4284</td>\n",
       "      <td>-118.32</td>\n",
       "      <td>34.10</td>\n",
       "      <td>31.0</td>\n",
       "      <td>622.0</td>\n",
       "      <td>229.0</td>\n",
       "      <td>597.0</td>\n",
       "      <td>227.0</td>\n",
       "      <td>1.5284</td>\n",
       "      <td>200000.0</td>\n",
       "      <td>&lt;1H OCEAN</td>\n",
       "    </tr>\n",
       "    <tr>\n",
       "      <th>4</th>\n",
       "      <td>16541</td>\n",
       "      <td>-121.23</td>\n",
       "      <td>37.79</td>\n",
       "      <td>21.0</td>\n",
       "      <td>1922.0</td>\n",
       "      <td>373.0</td>\n",
       "      <td>1130.0</td>\n",
       "      <td>372.0</td>\n",
       "      <td>4.0815</td>\n",
       "      <td>117900.0</td>\n",
       "      <td>INLAND</td>\n",
       "    </tr>\n",
       "  </tbody>\n",
       "</table>\n",
       "</div>"
      ],
      "text/plain": [
       "   Unnamed: 0  longitude  latitude  housing_median_age  total_rooms  \\\n",
       "0        2072    -119.84     36.77                 6.0       1853.0   \n",
       "1       10600    -117.80     33.68                 8.0       2032.0   \n",
       "2        2494    -120.19     36.60                25.0        875.0   \n",
       "3        4284    -118.32     34.10                31.0        622.0   \n",
       "4       16541    -121.23     37.79                21.0       1922.0   \n",
       "\n",
       "   total_bedrooms  population  households  median_income  median_house_value  \\\n",
       "0           473.0      1397.0       417.0         1.4817             72000.0   \n",
       "1           349.0       862.0       340.0         6.9133            274100.0   \n",
       "2           214.0       931.0       214.0         1.5536             58300.0   \n",
       "3           229.0       597.0       227.0         1.5284            200000.0   \n",
       "4           373.0      1130.0       372.0         4.0815            117900.0   \n",
       "\n",
       "  ocean_proximity  \n",
       "0          INLAND  \n",
       "1       <1H OCEAN  \n",
       "2          INLAND  \n",
       "3       <1H OCEAN  \n",
       "4          INLAND  "
      ]
     },
     "execution_count": 3,
     "metadata": {},
     "output_type": "execute_result"
    }
   ],
   "source": [
    "data.head()"
   ]
  },
  {
   "cell_type": "markdown",
   "id": "a4e0c3cc",
   "metadata": {},
   "source": [
    "#### Changement des nom des colonnes"
   ]
  },
  {
   "cell_type": "code",
   "execution_count": 4,
   "id": "00f686de",
   "metadata": {},
   "outputs": [],
   "source": [
    "data = data.rename(columns={'Unnamed: 0': 'ID logement', \n",
    "                          'housing_median_age': 'Age moyen logement', \n",
    "                          'total_rooms': 'Total pieces', \n",
    "                          'total_bedrooms': 'Total chambres', \n",
    "                          'population': 'Nb personne logement', \n",
    "                          'households': 'Nb famille logement', \n",
    "                          'median_income': 'Salaire median logement',\n",
    "                          'median_house_value': 'Valeur moyenne logement',\n",
    "                          'ocean_proximity': 'Proximation Ocean'})"
   ]
  },
  {
   "cell_type": "code",
   "execution_count": 5,
   "id": "92699245",
   "metadata": {},
   "outputs": [
    {
     "data": {
      "text/html": [
       "<div>\n",
       "<style scoped>\n",
       "    .dataframe tbody tr th:only-of-type {\n",
       "        vertical-align: middle;\n",
       "    }\n",
       "\n",
       "    .dataframe tbody tr th {\n",
       "        vertical-align: top;\n",
       "    }\n",
       "\n",
       "    .dataframe thead th {\n",
       "        text-align: right;\n",
       "    }\n",
       "</style>\n",
       "<table border=\"1\" class=\"dataframe\">\n",
       "  <thead>\n",
       "    <tr style=\"text-align: right;\">\n",
       "      <th></th>\n",
       "      <th>ID logement</th>\n",
       "      <th>longitude</th>\n",
       "      <th>latitude</th>\n",
       "      <th>Age moyen logement</th>\n",
       "      <th>Total pieces</th>\n",
       "      <th>Total chambres</th>\n",
       "      <th>Nb personne logement</th>\n",
       "      <th>Nb famille logement</th>\n",
       "      <th>Salaire median logement</th>\n",
       "      <th>Valeur moyenne logement</th>\n",
       "      <th>Proximation Ocean</th>\n",
       "    </tr>\n",
       "  </thead>\n",
       "  <tbody>\n",
       "    <tr>\n",
       "      <th>0</th>\n",
       "      <td>2072</td>\n",
       "      <td>-119.84</td>\n",
       "      <td>36.77</td>\n",
       "      <td>6.0</td>\n",
       "      <td>1853.0</td>\n",
       "      <td>473.0</td>\n",
       "      <td>1397.0</td>\n",
       "      <td>417.0</td>\n",
       "      <td>1.4817</td>\n",
       "      <td>72000.0</td>\n",
       "      <td>INLAND</td>\n",
       "    </tr>\n",
       "    <tr>\n",
       "      <th>1</th>\n",
       "      <td>10600</td>\n",
       "      <td>-117.80</td>\n",
       "      <td>33.68</td>\n",
       "      <td>8.0</td>\n",
       "      <td>2032.0</td>\n",
       "      <td>349.0</td>\n",
       "      <td>862.0</td>\n",
       "      <td>340.0</td>\n",
       "      <td>6.9133</td>\n",
       "      <td>274100.0</td>\n",
       "      <td>&lt;1H OCEAN</td>\n",
       "    </tr>\n",
       "    <tr>\n",
       "      <th>2</th>\n",
       "      <td>2494</td>\n",
       "      <td>-120.19</td>\n",
       "      <td>36.60</td>\n",
       "      <td>25.0</td>\n",
       "      <td>875.0</td>\n",
       "      <td>214.0</td>\n",
       "      <td>931.0</td>\n",
       "      <td>214.0</td>\n",
       "      <td>1.5536</td>\n",
       "      <td>58300.0</td>\n",
       "      <td>INLAND</td>\n",
       "    </tr>\n",
       "    <tr>\n",
       "      <th>3</th>\n",
       "      <td>4284</td>\n",
       "      <td>-118.32</td>\n",
       "      <td>34.10</td>\n",
       "      <td>31.0</td>\n",
       "      <td>622.0</td>\n",
       "      <td>229.0</td>\n",
       "      <td>597.0</td>\n",
       "      <td>227.0</td>\n",
       "      <td>1.5284</td>\n",
       "      <td>200000.0</td>\n",
       "      <td>&lt;1H OCEAN</td>\n",
       "    </tr>\n",
       "    <tr>\n",
       "      <th>4</th>\n",
       "      <td>16541</td>\n",
       "      <td>-121.23</td>\n",
       "      <td>37.79</td>\n",
       "      <td>21.0</td>\n",
       "      <td>1922.0</td>\n",
       "      <td>373.0</td>\n",
       "      <td>1130.0</td>\n",
       "      <td>372.0</td>\n",
       "      <td>4.0815</td>\n",
       "      <td>117900.0</td>\n",
       "      <td>INLAND</td>\n",
       "    </tr>\n",
       "  </tbody>\n",
       "</table>\n",
       "</div>"
      ],
      "text/plain": [
       "   ID logement  longitude  latitude  Age moyen logement  Total pieces  \\\n",
       "0         2072    -119.84     36.77                 6.0        1853.0   \n",
       "1        10600    -117.80     33.68                 8.0        2032.0   \n",
       "2         2494    -120.19     36.60                25.0         875.0   \n",
       "3         4284    -118.32     34.10                31.0         622.0   \n",
       "4        16541    -121.23     37.79                21.0        1922.0   \n",
       "\n",
       "   Total chambres  Nb personne logement  Nb famille logement  \\\n",
       "0           473.0                1397.0                417.0   \n",
       "1           349.0                 862.0                340.0   \n",
       "2           214.0                 931.0                214.0   \n",
       "3           229.0                 597.0                227.0   \n",
       "4           373.0                1130.0                372.0   \n",
       "\n",
       "   Salaire median logement  Valeur moyenne logement Proximation Ocean  \n",
       "0                   1.4817                  72000.0            INLAND  \n",
       "1                   6.9133                 274100.0         <1H OCEAN  \n",
       "2                   1.5536                  58300.0            INLAND  \n",
       "3                   1.5284                 200000.0         <1H OCEAN  \n",
       "4                   4.0815                 117900.0            INLAND  "
      ]
     },
     "execution_count": 5,
     "metadata": {},
     "output_type": "execute_result"
    }
   ],
   "source": [
    "data.head()"
   ]
  },
  {
   "cell_type": "markdown",
   "id": "24a7ea17",
   "metadata": {},
   "source": [
    "#### Vérification de la présence de doublons "
   ]
  },
  {
   "cell_type": "code",
   "execution_count": 6,
   "id": "f06cc4b9",
   "metadata": {},
   "outputs": [],
   "source": [
    "def doublon_column(column):\n",
    "    new_column = column.drop_duplicates()\n",
    "    if not len(column) == len(new_column):\n",
    "        return True\n",
    "    return False"
   ]
  },
  {
   "cell_type": "code",
   "execution_count": 7,
   "id": "9333378c",
   "metadata": {},
   "outputs": [
    {
     "data": {
      "text/plain": [
       "False"
      ]
     },
     "execution_count": 7,
     "metadata": {},
     "output_type": "execute_result"
    }
   ],
   "source": [
    "doublon_column(data['ID logement'])"
   ]
  },
  {
   "cell_type": "markdown",
   "id": "043e3355",
   "metadata": {},
   "source": [
    "#### Imputation des données manquantes"
   ]
  },
  {
   "cell_type": "code",
   "execution_count": 8,
   "id": "404544e3",
   "metadata": {},
   "outputs": [],
   "source": [
    "def replace_missing_value(column):\n",
    "    imputer = KNNImputer(n_neighbors=1)\n",
    "    new_column = imputer.fit_transform(column)\n",
    "    return new_column"
   ]
  },
  {
   "cell_type": "code",
   "execution_count": 9,
   "id": "317b36df",
   "metadata": {},
   "outputs": [],
   "source": [
    "total_chambres = replace_missing_value(data[[\"Total chambres\"]])\n",
    "data[\"Total chambres\"] = total_chambres"
   ]
  },
  {
   "cell_type": "markdown",
   "id": "175b05e9",
   "metadata": {},
   "source": [
    "#### Encodage des variables catégorielles"
   ]
  },
  {
   "cell_type": "code",
   "execution_count": 10,
   "id": "52234b7d",
   "metadata": {},
   "outputs": [
    {
     "data": {
      "text/plain": [
       "<1H OCEAN     7312\n",
       "INLAND        5235\n",
       "NEAR OCEAN    2140\n",
       "NEAR BAY      1821\n",
       "ISLAND           4\n",
       "Name: Proximation Ocean, dtype: int64"
      ]
     },
     "execution_count": 10,
     "metadata": {},
     "output_type": "execute_result"
    }
   ],
   "source": [
    "data[\"Proximation Ocean\"].value_counts()"
   ]
  },
  {
   "cell_type": "code",
   "execution_count": 11,
   "id": "7962558a",
   "metadata": {},
   "outputs": [
    {
     "data": {
      "text/html": [
       "<div>\n",
       "<style scoped>\n",
       "    .dataframe tbody tr th:only-of-type {\n",
       "        vertical-align: middle;\n",
       "    }\n",
       "\n",
       "    .dataframe tbody tr th {\n",
       "        vertical-align: top;\n",
       "    }\n",
       "\n",
       "    .dataframe thead th {\n",
       "        text-align: right;\n",
       "    }\n",
       "</style>\n",
       "<table border=\"1\" class=\"dataframe\">\n",
       "  <thead>\n",
       "    <tr style=\"text-align: right;\">\n",
       "      <th></th>\n",
       "      <th>ID logement</th>\n",
       "      <th>longitude</th>\n",
       "      <th>latitude</th>\n",
       "      <th>Age moyen logement</th>\n",
       "      <th>Total pieces</th>\n",
       "      <th>Total chambres</th>\n",
       "      <th>Nb personne logement</th>\n",
       "      <th>Nb famille logement</th>\n",
       "      <th>Salaire median logement</th>\n",
       "      <th>Valeur moyenne logement</th>\n",
       "      <th>_&lt;1H OCEAN</th>\n",
       "      <th>_INLAND</th>\n",
       "      <th>_ISLAND</th>\n",
       "      <th>_NEAR BAY</th>\n",
       "      <th>_NEAR OCEAN</th>\n",
       "    </tr>\n",
       "  </thead>\n",
       "  <tbody>\n",
       "    <tr>\n",
       "      <th>0</th>\n",
       "      <td>2072</td>\n",
       "      <td>-119.84</td>\n",
       "      <td>36.77</td>\n",
       "      <td>6.0</td>\n",
       "      <td>1853.0</td>\n",
       "      <td>473.0</td>\n",
       "      <td>1397.0</td>\n",
       "      <td>417.0</td>\n",
       "      <td>1.4817</td>\n",
       "      <td>72000.0</td>\n",
       "      <td>0</td>\n",
       "      <td>1</td>\n",
       "      <td>0</td>\n",
       "      <td>0</td>\n",
       "      <td>0</td>\n",
       "    </tr>\n",
       "    <tr>\n",
       "      <th>1</th>\n",
       "      <td>10600</td>\n",
       "      <td>-117.80</td>\n",
       "      <td>33.68</td>\n",
       "      <td>8.0</td>\n",
       "      <td>2032.0</td>\n",
       "      <td>349.0</td>\n",
       "      <td>862.0</td>\n",
       "      <td>340.0</td>\n",
       "      <td>6.9133</td>\n",
       "      <td>274100.0</td>\n",
       "      <td>1</td>\n",
       "      <td>0</td>\n",
       "      <td>0</td>\n",
       "      <td>0</td>\n",
       "      <td>0</td>\n",
       "    </tr>\n",
       "    <tr>\n",
       "      <th>2</th>\n",
       "      <td>2494</td>\n",
       "      <td>-120.19</td>\n",
       "      <td>36.60</td>\n",
       "      <td>25.0</td>\n",
       "      <td>875.0</td>\n",
       "      <td>214.0</td>\n",
       "      <td>931.0</td>\n",
       "      <td>214.0</td>\n",
       "      <td>1.5536</td>\n",
       "      <td>58300.0</td>\n",
       "      <td>0</td>\n",
       "      <td>1</td>\n",
       "      <td>0</td>\n",
       "      <td>0</td>\n",
       "      <td>0</td>\n",
       "    </tr>\n",
       "    <tr>\n",
       "      <th>3</th>\n",
       "      <td>4284</td>\n",
       "      <td>-118.32</td>\n",
       "      <td>34.10</td>\n",
       "      <td>31.0</td>\n",
       "      <td>622.0</td>\n",
       "      <td>229.0</td>\n",
       "      <td>597.0</td>\n",
       "      <td>227.0</td>\n",
       "      <td>1.5284</td>\n",
       "      <td>200000.0</td>\n",
       "      <td>1</td>\n",
       "      <td>0</td>\n",
       "      <td>0</td>\n",
       "      <td>0</td>\n",
       "      <td>0</td>\n",
       "    </tr>\n",
       "    <tr>\n",
       "      <th>4</th>\n",
       "      <td>16541</td>\n",
       "      <td>-121.23</td>\n",
       "      <td>37.79</td>\n",
       "      <td>21.0</td>\n",
       "      <td>1922.0</td>\n",
       "      <td>373.0</td>\n",
       "      <td>1130.0</td>\n",
       "      <td>372.0</td>\n",
       "      <td>4.0815</td>\n",
       "      <td>117900.0</td>\n",
       "      <td>0</td>\n",
       "      <td>1</td>\n",
       "      <td>0</td>\n",
       "      <td>0</td>\n",
       "      <td>0</td>\n",
       "    </tr>\n",
       "  </tbody>\n",
       "</table>\n",
       "</div>"
      ],
      "text/plain": [
       "   ID logement  longitude  latitude  Age moyen logement  Total pieces  \\\n",
       "0         2072    -119.84     36.77                 6.0        1853.0   \n",
       "1        10600    -117.80     33.68                 8.0        2032.0   \n",
       "2         2494    -120.19     36.60                25.0         875.0   \n",
       "3         4284    -118.32     34.10                31.0         622.0   \n",
       "4        16541    -121.23     37.79                21.0        1922.0   \n",
       "\n",
       "   Total chambres  Nb personne logement  Nb famille logement  \\\n",
       "0           473.0                1397.0                417.0   \n",
       "1           349.0                 862.0                340.0   \n",
       "2           214.0                 931.0                214.0   \n",
       "3           229.0                 597.0                227.0   \n",
       "4           373.0                1130.0                372.0   \n",
       "\n",
       "   Salaire median logement  Valeur moyenne logement  _<1H OCEAN  _INLAND  \\\n",
       "0                   1.4817                  72000.0           0        1   \n",
       "1                   6.9133                 274100.0           1        0   \n",
       "2                   1.5536                  58300.0           0        1   \n",
       "3                   1.5284                 200000.0           1        0   \n",
       "4                   4.0815                 117900.0           0        1   \n",
       "\n",
       "   _ISLAND  _NEAR BAY  _NEAR OCEAN  \n",
       "0        0          0            0  \n",
       "1        0          0            0  \n",
       "2        0          0            0  \n",
       "3        0          0            0  \n",
       "4        0          0            0  "
      ]
     },
     "execution_count": 11,
     "metadata": {},
     "output_type": "execute_result"
    }
   ],
   "source": [
    "data = pd.get_dummies(data, columns=['Proximation Ocean'], prefix=[\"\"])\n",
    "data.head()"
   ]
  },
  {
   "cell_type": "markdown",
   "id": "78a138bc",
   "metadata": {},
   "source": [
    "### Baseline  : Modèle de base"
   ]
  },
  {
   "cell_type": "markdown",
   "id": "b7e381a6",
   "metadata": {},
   "source": [
    "#### Import du modèle"
   ]
  },
  {
   "cell_type": "code",
   "execution_count": 12,
   "id": "22cbc576",
   "metadata": {},
   "outputs": [],
   "source": [
    "from sklearn.linear_model import LinearRegression\n",
    "from sklearn.model_selection import train_test_split"
   ]
  },
  {
   "cell_type": "markdown",
   "id": "99d5c589",
   "metadata": {},
   "source": [
    "#### Séléction des Features X"
   ]
  },
  {
   "cell_type": "code",
   "execution_count": 13,
   "id": "50a6ae0c",
   "metadata": {},
   "outputs": [],
   "source": [
    "X = data[[\"ID logement\",\"longitude\",\"latitude\",\"Age moyen logement\",\n",
    "          \"Total pieces\",\"Total chambres\",\"Nb personne logement\",\n",
    "          \"Nb famille logement\",\"Salaire median logement\",\"_<1H OCEAN\",\n",
    "          \"_INLAND\",\"_ISLAND\",\"_NEAR BAY\",\"_NEAR OCEAN\"\n",
    "         ]]\n",
    "X = np.array(X)"
   ]
  },
  {
   "cell_type": "markdown",
   "id": "a86dcc2b",
   "metadata": {},
   "source": [
    "#### Séléction de la Target Y"
   ]
  },
  {
   "cell_type": "code",
   "execution_count": 14,
   "id": "2b334ce3",
   "metadata": {},
   "outputs": [],
   "source": [
    "Y = data[[\"Valeur moyenne logement\"]]\n",
    "Y = np.array(Y)"
   ]
  },
  {
   "cell_type": "markdown",
   "id": "6fa2edb3",
   "metadata": {},
   "source": [
    "#### On divise notre data set pour avoir les données d'entrainement et d'évaluation."
   ]
  },
  {
   "cell_type": "code",
   "execution_count": 15,
   "id": "0ebabd6a",
   "metadata": {},
   "outputs": [],
   "source": [
    "x_train, x_test, y_train, y_test = train_test_split(X,Y, test_size=0.20)"
   ]
  },
  {
   "cell_type": "markdown",
   "id": "04f5f1fb",
   "metadata": {},
   "source": [
    "#### Entrainement & évaluation du modèle"
   ]
  },
  {
   "cell_type": "code",
   "execution_count": 18,
   "id": "efe2f4f5",
   "metadata": {},
   "outputs": [
    {
     "name": "stdout",
     "output_type": "stream",
     "text": [
      "Notre baseline est de : 0.6667937706027622\n"
     ]
    }
   ],
   "source": [
    "model = LinearRegression()\n",
    "model.fit(x_train, y_train)\n",
    "print(f\"Notre baseline est de : {model.score(x_test, y_test)}\")"
   ]
  },
  {
   "cell_type": "code",
   "execution_count": null,
   "id": "45bb3d87",
   "metadata": {},
   "outputs": [],
   "source": []
  }
 ],
 "metadata": {
  "kernelspec": {
   "display_name": "Python 3 (ipykernel)",
   "language": "python",
   "name": "python3"
  },
  "language_info": {
   "codemirror_mode": {
    "name": "ipython",
    "version": 3
   },
   "file_extension": ".py",
   "mimetype": "text/x-python",
   "name": "python",
   "nbconvert_exporter": "python",
   "pygments_lexer": "ipython3",
   "version": "3.8.12"
  },
  "toc": {
   "base_numbering": 1,
   "nav_menu": {},
   "number_sections": true,
   "sideBar": true,
   "skip_h1_title": false,
   "title_cell": "Table of Contents",
   "title_sidebar": "Contents",
   "toc_cell": false,
   "toc_position": {},
   "toc_section_display": true,
   "toc_window_display": false
  }
 },
 "nbformat": 4,
 "nbformat_minor": 5
}
