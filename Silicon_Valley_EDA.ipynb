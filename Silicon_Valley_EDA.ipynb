{
 "cells": [
  {
   "cell_type": "markdown",
   "id": "d0ed08c8",
   "metadata": {},
   "source": [
    "### Préparation des données "
   ]
  },
  {
   "cell_type": "markdown",
   "id": "44af9743",
   "metadata": {},
   "source": [
    "#### Import des librairies & Acquisition des données "
   ]
  },
  {
   "cell_type": "code",
   "execution_count": 3,
   "id": "7b939561",
   "metadata": {},
   "outputs": [],
   "source": [
    "import pandas as pd\n",
    "import numpy as np\n",
    "import matplotlib.pyplot as plt\n",
    "from sklearn.feature_selection import VarianceThreshold\n",
    "import seaborn as sns\n",
    "import warnings\n",
    "warnings.filterwarnings(\"ignore\", category=Warning)\n",
    "from sklearn.impute import KNNImputer\n",
    "from sklearn.impute import MissingIndicator"
   ]
  },
  {
   "cell_type": "code",
   "execution_count": 4,
   "id": "2d4bd825",
   "metadata": {},
   "outputs": [],
   "source": [
    "data = pd.read_csv(\"data/06e9c61d-e45f-4d74-beb5-e5e53ac6d2de.csv\")"
   ]
  },
  {
   "cell_type": "code",
   "execution_count": 5,
   "id": "40cbd091",
   "metadata": {},
   "outputs": [
    {
     "data": {
      "text/html": [
       "<div>\n",
       "<style scoped>\n",
       "    .dataframe tbody tr th:only-of-type {\n",
       "        vertical-align: middle;\n",
       "    }\n",
       "\n",
       "    .dataframe tbody tr th {\n",
       "        vertical-align: top;\n",
       "    }\n",
       "\n",
       "    .dataframe thead th {\n",
       "        text-align: right;\n",
       "    }\n",
       "</style>\n",
       "<table border=\"1\" class=\"dataframe\">\n",
       "  <thead>\n",
       "    <tr style=\"text-align: right;\">\n",
       "      <th></th>\n",
       "      <th>Unnamed: 0</th>\n",
       "      <th>longitude</th>\n",
       "      <th>latitude</th>\n",
       "      <th>housing_median_age</th>\n",
       "      <th>total_rooms</th>\n",
       "      <th>total_bedrooms</th>\n",
       "      <th>population</th>\n",
       "      <th>households</th>\n",
       "      <th>median_income</th>\n",
       "      <th>median_house_value</th>\n",
       "      <th>ocean_proximity</th>\n",
       "    </tr>\n",
       "  </thead>\n",
       "  <tbody>\n",
       "    <tr>\n",
       "      <th>0</th>\n",
       "      <td>2072</td>\n",
       "      <td>-119.84</td>\n",
       "      <td>36.77</td>\n",
       "      <td>6.0</td>\n",
       "      <td>1853.0</td>\n",
       "      <td>473.0</td>\n",
       "      <td>1397.0</td>\n",
       "      <td>417.0</td>\n",
       "      <td>1.4817</td>\n",
       "      <td>72000.0</td>\n",
       "      <td>INLAND</td>\n",
       "    </tr>\n",
       "    <tr>\n",
       "      <th>1</th>\n",
       "      <td>10600</td>\n",
       "      <td>-117.80</td>\n",
       "      <td>33.68</td>\n",
       "      <td>8.0</td>\n",
       "      <td>2032.0</td>\n",
       "      <td>349.0</td>\n",
       "      <td>862.0</td>\n",
       "      <td>340.0</td>\n",
       "      <td>6.9133</td>\n",
       "      <td>274100.0</td>\n",
       "      <td>&lt;1H OCEAN</td>\n",
       "    </tr>\n",
       "    <tr>\n",
       "      <th>2</th>\n",
       "      <td>2494</td>\n",
       "      <td>-120.19</td>\n",
       "      <td>36.60</td>\n",
       "      <td>25.0</td>\n",
       "      <td>875.0</td>\n",
       "      <td>214.0</td>\n",
       "      <td>931.0</td>\n",
       "      <td>214.0</td>\n",
       "      <td>1.5536</td>\n",
       "      <td>58300.0</td>\n",
       "      <td>INLAND</td>\n",
       "    </tr>\n",
       "    <tr>\n",
       "      <th>3</th>\n",
       "      <td>4284</td>\n",
       "      <td>-118.32</td>\n",
       "      <td>34.10</td>\n",
       "      <td>31.0</td>\n",
       "      <td>622.0</td>\n",
       "      <td>229.0</td>\n",
       "      <td>597.0</td>\n",
       "      <td>227.0</td>\n",
       "      <td>1.5284</td>\n",
       "      <td>200000.0</td>\n",
       "      <td>&lt;1H OCEAN</td>\n",
       "    </tr>\n",
       "    <tr>\n",
       "      <th>4</th>\n",
       "      <td>16541</td>\n",
       "      <td>-121.23</td>\n",
       "      <td>37.79</td>\n",
       "      <td>21.0</td>\n",
       "      <td>1922.0</td>\n",
       "      <td>373.0</td>\n",
       "      <td>1130.0</td>\n",
       "      <td>372.0</td>\n",
       "      <td>4.0815</td>\n",
       "      <td>117900.0</td>\n",
       "      <td>INLAND</td>\n",
       "    </tr>\n",
       "  </tbody>\n",
       "</table>\n",
       "</div>"
      ],
      "text/plain": [
       "   Unnamed: 0  longitude  latitude  housing_median_age  total_rooms  \\\n",
       "0        2072    -119.84     36.77                 6.0       1853.0   \n",
       "1       10600    -117.80     33.68                 8.0       2032.0   \n",
       "2        2494    -120.19     36.60                25.0        875.0   \n",
       "3        4284    -118.32     34.10                31.0        622.0   \n",
       "4       16541    -121.23     37.79                21.0       1922.0   \n",
       "\n",
       "   total_bedrooms  population  households  median_income  median_house_value  \\\n",
       "0           473.0      1397.0       417.0         1.4817             72000.0   \n",
       "1           349.0       862.0       340.0         6.9133            274100.0   \n",
       "2           214.0       931.0       214.0         1.5536             58300.0   \n",
       "3           229.0       597.0       227.0         1.5284            200000.0   \n",
       "4           373.0      1130.0       372.0         4.0815            117900.0   \n",
       "\n",
       "  ocean_proximity  \n",
       "0          INLAND  \n",
       "1       <1H OCEAN  \n",
       "2          INLAND  \n",
       "3       <1H OCEAN  \n",
       "4          INLAND  "
      ]
     },
     "execution_count": 5,
     "metadata": {},
     "output_type": "execute_result"
    }
   ],
   "source": [
    "data.head()"
   ]
  },
  {
   "cell_type": "markdown",
   "id": "382d481b",
   "metadata": {},
   "source": [
    "#### Changement des nom des colonnes"
   ]
  },
  {
   "cell_type": "code",
   "execution_count": 7,
   "id": "4f9f435e",
   "metadata": {},
   "outputs": [],
   "source": [
    "data = data.rename(columns={'Unnamed: 0': 'ID logement', \n",
    "                          'housing_median_age': 'Age moyen logement', \n",
    "                          'total_rooms': 'Total pieces', \n",
    "                          'total_bedrooms': 'Total chambres', \n",
    "                          'population': 'Nb personne logement', \n",
    "                          'households': 'Nb famille logement', \n",
    "                          'median_income': 'Salaire median logement',\n",
    "                          'median_house_value': 'Valeur moyenne logement',\n",
    "                          'ocean_proximity': 'Proximation Ocean'})"
   ]
  },
  {
   "cell_type": "code",
   "execution_count": 8,
   "id": "0fc75fb7",
   "metadata": {},
   "outputs": [
    {
     "data": {
      "text/html": [
       "<div>\n",
       "<style scoped>\n",
       "    .dataframe tbody tr th:only-of-type {\n",
       "        vertical-align: middle;\n",
       "    }\n",
       "\n",
       "    .dataframe tbody tr th {\n",
       "        vertical-align: top;\n",
       "    }\n",
       "\n",
       "    .dataframe thead th {\n",
       "        text-align: right;\n",
       "    }\n",
       "</style>\n",
       "<table border=\"1\" class=\"dataframe\">\n",
       "  <thead>\n",
       "    <tr style=\"text-align: right;\">\n",
       "      <th></th>\n",
       "      <th>ID logement</th>\n",
       "      <th>longitude</th>\n",
       "      <th>latitude</th>\n",
       "      <th>Age moyen logement</th>\n",
       "      <th>Total pieces</th>\n",
       "      <th>Total chambres</th>\n",
       "      <th>Nb personne logement</th>\n",
       "      <th>Nb famille logement</th>\n",
       "      <th>Salaire median logement</th>\n",
       "      <th>Valeur moyenne logement</th>\n",
       "      <th>Proximation Ocean</th>\n",
       "    </tr>\n",
       "  </thead>\n",
       "  <tbody>\n",
       "    <tr>\n",
       "      <th>0</th>\n",
       "      <td>2072</td>\n",
       "      <td>-119.84</td>\n",
       "      <td>36.77</td>\n",
       "      <td>6.0</td>\n",
       "      <td>1853.0</td>\n",
       "      <td>473.0</td>\n",
       "      <td>1397.0</td>\n",
       "      <td>417.0</td>\n",
       "      <td>1.4817</td>\n",
       "      <td>72000.0</td>\n",
       "      <td>INLAND</td>\n",
       "    </tr>\n",
       "    <tr>\n",
       "      <th>1</th>\n",
       "      <td>10600</td>\n",
       "      <td>-117.80</td>\n",
       "      <td>33.68</td>\n",
       "      <td>8.0</td>\n",
       "      <td>2032.0</td>\n",
       "      <td>349.0</td>\n",
       "      <td>862.0</td>\n",
       "      <td>340.0</td>\n",
       "      <td>6.9133</td>\n",
       "      <td>274100.0</td>\n",
       "      <td>&lt;1H OCEAN</td>\n",
       "    </tr>\n",
       "    <tr>\n",
       "      <th>2</th>\n",
       "      <td>2494</td>\n",
       "      <td>-120.19</td>\n",
       "      <td>36.60</td>\n",
       "      <td>25.0</td>\n",
       "      <td>875.0</td>\n",
       "      <td>214.0</td>\n",
       "      <td>931.0</td>\n",
       "      <td>214.0</td>\n",
       "      <td>1.5536</td>\n",
       "      <td>58300.0</td>\n",
       "      <td>INLAND</td>\n",
       "    </tr>\n",
       "    <tr>\n",
       "      <th>3</th>\n",
       "      <td>4284</td>\n",
       "      <td>-118.32</td>\n",
       "      <td>34.10</td>\n",
       "      <td>31.0</td>\n",
       "      <td>622.0</td>\n",
       "      <td>229.0</td>\n",
       "      <td>597.0</td>\n",
       "      <td>227.0</td>\n",
       "      <td>1.5284</td>\n",
       "      <td>200000.0</td>\n",
       "      <td>&lt;1H OCEAN</td>\n",
       "    </tr>\n",
       "    <tr>\n",
       "      <th>4</th>\n",
       "      <td>16541</td>\n",
       "      <td>-121.23</td>\n",
       "      <td>37.79</td>\n",
       "      <td>21.0</td>\n",
       "      <td>1922.0</td>\n",
       "      <td>373.0</td>\n",
       "      <td>1130.0</td>\n",
       "      <td>372.0</td>\n",
       "      <td>4.0815</td>\n",
       "      <td>117900.0</td>\n",
       "      <td>INLAND</td>\n",
       "    </tr>\n",
       "  </tbody>\n",
       "</table>\n",
       "</div>"
      ],
      "text/plain": [
       "   ID logement  longitude  latitude  Age moyen logement  Total pieces  \\\n",
       "0         2072    -119.84     36.77                 6.0        1853.0   \n",
       "1        10600    -117.80     33.68                 8.0        2032.0   \n",
       "2         2494    -120.19     36.60                25.0         875.0   \n",
       "3         4284    -118.32     34.10                31.0         622.0   \n",
       "4        16541    -121.23     37.79                21.0        1922.0   \n",
       "\n",
       "   Total chambres  Nb personne logement  Nb famille logement  \\\n",
       "0           473.0                1397.0                417.0   \n",
       "1           349.0                 862.0                340.0   \n",
       "2           214.0                 931.0                214.0   \n",
       "3           229.0                 597.0                227.0   \n",
       "4           373.0                1130.0                372.0   \n",
       "\n",
       "   Salaire median logement  Valeur moyenne logement Proximation Ocean  \n",
       "0                   1.4817                  72000.0            INLAND  \n",
       "1                   6.9133                 274100.0         <1H OCEAN  \n",
       "2                   1.5536                  58300.0            INLAND  \n",
       "3                   1.5284                 200000.0         <1H OCEAN  \n",
       "4                   4.0815                 117900.0            INLAND  "
      ]
     },
     "execution_count": 8,
     "metadata": {},
     "output_type": "execute_result"
    }
   ],
   "source": [
    "data.head()"
   ]
  },
  {
   "cell_type": "markdown",
   "id": "7e060eb0",
   "metadata": {},
   "source": [
    "#### Vérification de la présence de doublons "
   ]
  },
  {
   "cell_type": "code",
   "execution_count": 10,
   "id": "0718c339",
   "metadata": {},
   "outputs": [],
   "source": [
    "def doublon_column(column):\n",
    "    new_column = column.drop_duplicates()\n",
    "    if not len(column) == len(new_column):\n",
    "        return True\n",
    "    return False"
   ]
  },
  {
   "cell_type": "code",
   "execution_count": 11,
   "id": "47230dbe",
   "metadata": {},
   "outputs": [
    {
     "data": {
      "text/plain": [
       "False"
      ]
     },
     "execution_count": 11,
     "metadata": {},
     "output_type": "execute_result"
    }
   ],
   "source": [
    "doublon_column(data['ID logement'])"
   ]
  },
  {
   "cell_type": "markdown",
   "id": "b333a1b0",
   "metadata": {},
   "source": [
    "#### Encodage des variables catégorielles"
   ]
  },
  {
   "cell_type": "code",
   "execution_count": 12,
   "id": "1f656ed7",
   "metadata": {},
   "outputs": [
    {
     "data": {
      "text/plain": [
       "<1H OCEAN     7312\n",
       "INLAND        5235\n",
       "NEAR OCEAN    2140\n",
       "NEAR BAY      1821\n",
       "ISLAND           4\n",
       "Name: Proximation Ocean, dtype: int64"
      ]
     },
     "execution_count": 12,
     "metadata": {},
     "output_type": "execute_result"
    }
   ],
   "source": [
    "data[\"Proximation Ocean\"].value_counts()"
   ]
  },
  {
   "cell_type": "code",
   "execution_count": null,
   "id": "720095dc",
   "metadata": {},
   "outputs": [],
   "source": []
  }
 ],
 "metadata": {
  "kernelspec": {
   "display_name": "Python 3 (ipykernel)",
   "language": "python",
   "name": "python3"
  },
  "language_info": {
   "codemirror_mode": {
    "name": "ipython",
    "version": 3
   },
   "file_extension": ".py",
   "mimetype": "text/x-python",
   "name": "python",
   "nbconvert_exporter": "python",
   "pygments_lexer": "ipython3",
   "version": "3.8.12"
  },
  "toc": {
   "base_numbering": 1,
   "nav_menu": {},
   "number_sections": true,
   "sideBar": true,
   "skip_h1_title": false,
   "title_cell": "Table of Contents",
   "title_sidebar": "Contents",
   "toc_cell": false,
   "toc_position": {},
   "toc_section_display": true,
   "toc_window_display": false
  }
 },
 "nbformat": 4,
 "nbformat_minor": 5
}
