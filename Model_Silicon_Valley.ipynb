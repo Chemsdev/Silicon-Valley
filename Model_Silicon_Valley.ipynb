{
 "cells": [
  {
   "cell_type": "markdown",
   "id": "c5c6c10c",
   "metadata": {},
   "source": [
    "# Sillicon Valley : Model"
   ]
  },
  {
   "cell_type": "code",
   "execution_count": null,
   "id": "22f7070e",
   "metadata": {},
   "outputs": [],
   "source": [
    "import pandas as pd\n",
    "import numpy as np\n",
    "import matplotlib.pyplot as plt"
   ]
  },
  {
   "cell_type": "markdown",
   "id": "32106b90",
   "metadata": {},
   "source": [
    "### Observation des performances des algorithmes de Scaling"
   ]
  },
  {
   "cell_type": "markdown",
   "id": "5b285f3c",
   "metadata": {},
   "source": [
    "Nous avons différentes techniques de Scaling : <br>\n",
    "=> L'algorithmme MinmaxScaler <br>\n",
    "=> L'algorithmme StandardScaler <br>\n",
    "=> L'algorithmme RobustScaler <br>"
   ]
  },
  {
   "cell_type": "markdown",
   "id": "c7e2c214",
   "metadata": {},
   "source": [
    "#### Importation du dataset clean."
   ]
  },
  {
   "cell_type": "code",
   "execution_count": null,
   "id": "94bfbc1b",
   "metadata": {},
   "outputs": [],
   "source": [
    "dataset = pd.read_csv(\"data/dataset_clean.csv\")"
   ]
  },
  {
   "cell_type": "code",
   "execution_count": null,
   "id": "f04eb65f",
   "metadata": {},
   "outputs": [],
   "source": [
    "dataset.head()"
   ]
  },
  {
   "cell_type": "markdown",
   "id": "79ddfae4",
   "metadata": {},
   "source": [
    "#### Algorithme MinMaxScaler (Normalisation)"
   ]
  },
  {
   "cell_type": "markdown",
   "id": "542a1cf4",
   "metadata": {},
   "source": [
    "L'algorithme MinMaxScaler va transformer chaque variable de tel sorte à ce que les valeurs soit toutes comprise entre 0 et 1. <br>\n",
    "Pour cela on soustrait chaque valeur d'une variable au minimum de cette variable <br>\n",
    "Puis on divise par l'écart entre le maximum de la variable et le minimum de la variable"
   ]
  },
  {
   "cell_type": "code",
   "execution_count": null,
   "id": "b94f0c07",
   "metadata": {},
   "outputs": [],
   "source": [
    "from sklearn.preprocessing import MinMaxScaler"
   ]
  },
  {
   "cell_type": "markdown",
   "id": "7f316232",
   "metadata": {},
   "source": [
    "#### Algorithme Standariser (Standarisation)"
   ]
  },
  {
   "cell_type": "markdown",
   "id": "a04143b4",
   "metadata": {},
   "source": [
    "L'algorithme StandardScaler va transformer chaque variable de tel sorte à ce que chaque variable est une moyenne de 0 et un écart type égal à 1.\n",
    "Pour cela il faut soustraire chaque valeur à la moyenne initiale de notre variable et diviser le tout par l'écart type initiale de la variable   "
   ]
  },
  {
   "cell_type": "code",
   "execution_count": null,
   "id": "f667ff0f",
   "metadata": {},
   "outputs": [],
   "source": [
    "from sklearn.preprocessing import StandardScaler"
   ]
  },
  {
   "cell_type": "markdown",
   "id": "048e80f0",
   "metadata": {},
   "source": [
    "#### Algorithme Robuster "
   ]
  },
  {
   "cell_type": "markdown",
   "id": "40dc913d",
   "metadata": {},
   "source": [
    "Comme nous l'avons constater précédemment, le dataset contient énormément d'outliers. <br>\n",
    "Face à cette situation, nous avons une autre alternative que de supprimer les outliers. <br>\n",
    "Nous pouvons utiliser l'algorithme RobusteScaler qui lui est très peu sensible aux outliers."
   ]
  },
  {
   "cell_type": "code",
   "execution_count": null,
   "id": "f8d5141b",
   "metadata": {},
   "outputs": [],
   "source": [
    "from sklearn.preprocessing import RobustScaler"
   ]
  },
  {
   "cell_type": "markdown",
   "id": "b76768eb",
   "metadata": {},
   "source": [
    "#### Comparaison des différentes techniques de Scaling avec les données original."
   ]
  },
  {
   "cell_type": "code",
   "execution_count": null,
   "id": "501eeb4a",
   "metadata": {},
   "outputs": [],
   "source": [
    "X_array = np.array(dataset)"
   ]
  },
  {
   "cell_type": "code",
   "execution_count": null,
   "id": "975a71df",
   "metadata": {},
   "outputs": [],
   "source": [
    "X_minmax = MinMaxScaler().fit_transform(X_array)\n",
    "X_standard = StandardScaler().fit_transform(X_array)\n",
    "X_robust = RobustScaler().fit_transform(X_array)"
   ]
  },
  {
   "cell_type": "code",
   "execution_count": null,
   "id": "83a6a7da",
   "metadata": {
    "scrolled": false
   },
   "outputs": [],
   "source": [
    "plt.scatter(X_array[:, 0], X_array[:, 1], label=\"Original\")\n",
    "plt.scatter(X_minmax[:, 0], X_minmax[:, 1], label=\"Minmax\")\n",
    "plt.scatter(X_standard[:, 0], X_standard[:, 1], label=\"Standard\")\n",
    "plt.scatter(X_robust[:, 0], X_robust[:, 1], label=\"Robust\")\n",
    "plt.legend()"
   ]
  },
  {
   "cell_type": "markdown",
   "id": "2ef5a54c",
   "metadata": {},
   "source": [
    "## Scaling des données "
   ]
  },
  {
   "cell_type": "markdown",
   "id": "59385eba",
   "metadata": {},
   "source": [
    "#### Choix des features & Scaling des données"
   ]
  },
  {
   "cell_type": "code",
   "execution_count": null,
   "id": "cb5183bd",
   "metadata": {},
   "outputs": [],
   "source": [
    "def scaling(df, liste_delete=\"\",liste_1=0, liste_2=0, liste_3=0):\n",
    "    if not liste_delete == \"\":\n",
    "        df = df.drop(columns=liste_delete, axis=1)     \n",
    "    minmax = MinMaxScaler()\n",
    "    robust = RobustScaler()    \n",
    "    standard = StandardScaler()  \n",
    "    for i in liste_1:\n",
    "        minmax.fit_transform(df[[i]])\n",
    "    for i in liste_2:\n",
    "        robust.fit_transform(df[[i]])\n",
    "    for i in liste_3:\n",
    "        standard.fit_transform(df[[i]])    \n",
    "    return df"
   ]
  },
  {
   "cell_type": "markdown",
   "id": "fcee28d2",
   "metadata": {},
   "source": [
    "Choix de l'algorithme de scaling sur les features"
   ]
  },
  {
   "cell_type": "code",
   "execution_count": null,
   "id": "8fe87543",
   "metadata": {},
   "outputs": [],
   "source": [
    "minmax = [\"longitude\",\"Age moyen logement\"]\n",
    "robust = [\"Total pieces\",\"Total chambres\",\"Nb personne logement\"]\n",
    "standard = [\"Salaire median logement\",\"Valeur moyenne logement\",\"Nb famille logement\"]"
   ]
  },
  {
   "cell_type": "code",
   "execution_count": null,
   "id": "e59f6906",
   "metadata": {},
   "outputs": [],
   "source": [
    "scaling(dataset, liste_delete=[\"latitude\"], liste_1=minmax, liste_2=robust, liste_3=standard)"
   ]
  },
  {
   "cell_type": "code",
   "execution_count": null,
   "id": "99b945fa",
   "metadata": {},
   "outputs": [],
   "source": []
  }
 ],
 "metadata": {
  "kernelspec": {
   "display_name": "Python 3 (ipykernel)",
   "language": "python",
   "name": "python3"
  },
  "language_info": {
   "codemirror_mode": {
    "name": "ipython",
    "version": 3
   },
   "file_extension": ".py",
   "mimetype": "text/x-python",
   "name": "python",
   "nbconvert_exporter": "python",
   "pygments_lexer": "ipython3",
   "version": "3.8.12"
  },
  "toc": {
   "base_numbering": 1,
   "nav_menu": {},
   "number_sections": true,
   "sideBar": true,
   "skip_h1_title": false,
   "title_cell": "Table of Contents",
   "title_sidebar": "Contents",
   "toc_cell": false,
   "toc_position": {},
   "toc_section_display": true,
   "toc_window_display": false
  }
 },
 "nbformat": 4,
 "nbformat_minor": 5
}
