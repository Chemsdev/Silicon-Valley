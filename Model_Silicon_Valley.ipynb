{
 "cells": [
  {
   "cell_type": "markdown",
   "id": "146cad23",
   "metadata": {},
   "source": [
    "## Sillicon Valley : Model"
   ]
  },
  {
   "cell_type": "code",
   "execution_count": 2,
   "id": "dd4ec577",
   "metadata": {},
   "outputs": [],
   "source": [
    "import pandas as pd\n",
    "import numpy as np\n",
    "import seaborn as sns \n",
    "import matplotlib.pyplot as plt\n",
    "from sklearn.linear_model import LinearRegression\n",
    "from sklearn.model_selection import train_test_split\n",
    "from sklearn.model_selection import cross_val_score"
   ]
  },
  {
   "cell_type": "markdown",
   "id": "73bb9e4f",
   "metadata": {},
   "source": [
    "### Observation des performances des algorithmes de Scaling"
   ]
  },
  {
   "cell_type": "markdown",
   "id": "c3404a7a",
   "metadata": {},
   "source": [
    "Nous avons différentes techniques de Scaling : <br>\n",
    "=> L'algorithmme MinmaxScaler <br>\n",
    "=> L'algorithmme StandardScaler <br>\n",
    "=> L'algorithmme RobustScaler <br>"
   ]
  },
  {
   "cell_type": "markdown",
   "id": "6d3ccdd4",
   "metadata": {},
   "source": [
    "#### Importation du dataset clean."
   ]
  },
  {
   "cell_type": "code",
   "execution_count": 3,
   "id": "a7537948",
   "metadata": {},
   "outputs": [],
   "source": [
    "dataset = pd.read_csv(\"data/dataset_clean.csv\")"
   ]
  },
  {
   "cell_type": "code",
   "execution_count": 4,
   "id": "b12c1781",
   "metadata": {},
   "outputs": [
    {
     "data": {
      "text/html": [
       "<div>\n",
       "<style scoped>\n",
       "    .dataframe tbody tr th:only-of-type {\n",
       "        vertical-align: middle;\n",
       "    }\n",
       "\n",
       "    .dataframe tbody tr th {\n",
       "        vertical-align: top;\n",
       "    }\n",
       "\n",
       "    .dataframe thead th {\n",
       "        text-align: right;\n",
       "    }\n",
       "</style>\n",
       "<table border=\"1\" class=\"dataframe\">\n",
       "  <thead>\n",
       "    <tr style=\"text-align: right;\">\n",
       "      <th></th>\n",
       "      <th>longitude</th>\n",
       "      <th>latitude</th>\n",
       "      <th>Age moyen logement</th>\n",
       "      <th>Total pieces</th>\n",
       "      <th>Total chambres</th>\n",
       "      <th>Nb personne logement</th>\n",
       "      <th>Nb famille logement</th>\n",
       "      <th>Salaire median logement</th>\n",
       "      <th>Valeur moyenne logement</th>\n",
       "      <th>_&lt;1H OCEAN</th>\n",
       "      <th>_INLAND</th>\n",
       "      <th>_ISLAND</th>\n",
       "      <th>_NEAR BAY</th>\n",
       "      <th>_NEAR OCEAN</th>\n",
       "    </tr>\n",
       "  </thead>\n",
       "  <tbody>\n",
       "    <tr>\n",
       "      <th>0</th>\n",
       "      <td>-119.84</td>\n",
       "      <td>36.77</td>\n",
       "      <td>6.0</td>\n",
       "      <td>1853.0</td>\n",
       "      <td>473.0</td>\n",
       "      <td>1397.0</td>\n",
       "      <td>417.0</td>\n",
       "      <td>1.4817</td>\n",
       "      <td>72000.0</td>\n",
       "      <td>0</td>\n",
       "      <td>1</td>\n",
       "      <td>0</td>\n",
       "      <td>0</td>\n",
       "      <td>0</td>\n",
       "    </tr>\n",
       "    <tr>\n",
       "      <th>1</th>\n",
       "      <td>-117.80</td>\n",
       "      <td>33.68</td>\n",
       "      <td>8.0</td>\n",
       "      <td>2032.0</td>\n",
       "      <td>349.0</td>\n",
       "      <td>862.0</td>\n",
       "      <td>340.0</td>\n",
       "      <td>6.9133</td>\n",
       "      <td>274100.0</td>\n",
       "      <td>1</td>\n",
       "      <td>0</td>\n",
       "      <td>0</td>\n",
       "      <td>0</td>\n",
       "      <td>0</td>\n",
       "    </tr>\n",
       "    <tr>\n",
       "      <th>2</th>\n",
       "      <td>-120.19</td>\n",
       "      <td>36.60</td>\n",
       "      <td>25.0</td>\n",
       "      <td>875.0</td>\n",
       "      <td>214.0</td>\n",
       "      <td>931.0</td>\n",
       "      <td>214.0</td>\n",
       "      <td>1.5536</td>\n",
       "      <td>58300.0</td>\n",
       "      <td>0</td>\n",
       "      <td>1</td>\n",
       "      <td>0</td>\n",
       "      <td>0</td>\n",
       "      <td>0</td>\n",
       "    </tr>\n",
       "    <tr>\n",
       "      <th>3</th>\n",
       "      <td>-118.32</td>\n",
       "      <td>34.10</td>\n",
       "      <td>31.0</td>\n",
       "      <td>622.0</td>\n",
       "      <td>229.0</td>\n",
       "      <td>597.0</td>\n",
       "      <td>227.0</td>\n",
       "      <td>1.5284</td>\n",
       "      <td>200000.0</td>\n",
       "      <td>1</td>\n",
       "      <td>0</td>\n",
       "      <td>0</td>\n",
       "      <td>0</td>\n",
       "      <td>0</td>\n",
       "    </tr>\n",
       "    <tr>\n",
       "      <th>4</th>\n",
       "      <td>-121.23</td>\n",
       "      <td>37.79</td>\n",
       "      <td>21.0</td>\n",
       "      <td>1922.0</td>\n",
       "      <td>373.0</td>\n",
       "      <td>1130.0</td>\n",
       "      <td>372.0</td>\n",
       "      <td>4.0815</td>\n",
       "      <td>117900.0</td>\n",
       "      <td>0</td>\n",
       "      <td>1</td>\n",
       "      <td>0</td>\n",
       "      <td>0</td>\n",
       "      <td>0</td>\n",
       "    </tr>\n",
       "  </tbody>\n",
       "</table>\n",
       "</div>"
      ],
      "text/plain": [
       "   longitude  latitude  Age moyen logement  Total pieces  Total chambres  \\\n",
       "0    -119.84     36.77                 6.0        1853.0           473.0   \n",
       "1    -117.80     33.68                 8.0        2032.0           349.0   \n",
       "2    -120.19     36.60                25.0         875.0           214.0   \n",
       "3    -118.32     34.10                31.0         622.0           229.0   \n",
       "4    -121.23     37.79                21.0        1922.0           373.0   \n",
       "\n",
       "   Nb personne logement  Nb famille logement  Salaire median logement  \\\n",
       "0                1397.0                417.0                   1.4817   \n",
       "1                 862.0                340.0                   6.9133   \n",
       "2                 931.0                214.0                   1.5536   \n",
       "3                 597.0                227.0                   1.5284   \n",
       "4                1130.0                372.0                   4.0815   \n",
       "\n",
       "   Valeur moyenne logement  _<1H OCEAN  _INLAND  _ISLAND  _NEAR BAY  \\\n",
       "0                  72000.0           0        1        0          0   \n",
       "1                 274100.0           1        0        0          0   \n",
       "2                  58300.0           0        1        0          0   \n",
       "3                 200000.0           1        0        0          0   \n",
       "4                 117900.0           0        1        0          0   \n",
       "\n",
       "   _NEAR OCEAN  \n",
       "0            0  \n",
       "1            0  \n",
       "2            0  \n",
       "3            0  \n",
       "4            0  "
      ]
     },
     "execution_count": 4,
     "metadata": {},
     "output_type": "execute_result"
    }
   ],
   "source": [
    "dataset.head()"
   ]
  },
  {
   "cell_type": "markdown",
   "id": "cb9b3fee",
   "metadata": {},
   "source": [
    "#### Algorithme MinMaxScaler (Normalisation)"
   ]
  },
  {
   "cell_type": "markdown",
   "id": "0bf87a87",
   "metadata": {},
   "source": [
    "L'algorithme MinMaxScaler va transformer chaque variable de tel sorte à ce que les valeurs soit toutes comprise entre 0 et 1. <br>\n",
    "Pour cela on soustrait chaque valeur d'une variable au minimum de cette variable <br>\n",
    "Puis on divise par l'écart entre le maximum de la variable et le minimum de la variable"
   ]
  },
  {
   "cell_type": "code",
   "execution_count": 5,
   "id": "1290c9ca",
   "metadata": {},
   "outputs": [],
   "source": [
    "from sklearn.preprocessing import MinMaxScaler"
   ]
  },
  {
   "cell_type": "markdown",
   "id": "0e43bb50",
   "metadata": {},
   "source": [
    "#### Algorithme Standariser (Standarisation)"
   ]
  },
  {
   "cell_type": "markdown",
   "id": "d98550f7",
   "metadata": {},
   "source": [
    "L'algorithme StandardScaler va transformer chaque variable de tel sorte à ce que chaque variable est une moyenne de 0 et un écart type égal à 1.\n",
    "Pour cela il faut soustraire chaque valeur à la moyenne initiale de notre variable et diviser le tout par l'écart type initiale de la variable   "
   ]
  },
  {
   "cell_type": "code",
   "execution_count": 6,
   "id": "50555d20",
   "metadata": {},
   "outputs": [],
   "source": [
    "from sklearn.preprocessing import StandardScaler"
   ]
  },
  {
   "cell_type": "markdown",
   "id": "649219a2",
   "metadata": {},
   "source": [
    "#### Algorithme Robuster "
   ]
  },
  {
   "cell_type": "markdown",
   "id": "d304cf8e",
   "metadata": {},
   "source": [
    "Comme nous l'avons constater précédemment, le dataset contient énormément d'outliers. <br>\n",
    "Face à cette situation, nous avons une autre alternative que de supprimer les outliers. <br>\n",
    "Nous pouvons utiliser l'algorithme RobusteScaler qui lui est très peu sensible aux outliers."
   ]
  },
  {
   "cell_type": "code",
   "execution_count": 7,
   "id": "5c533646",
   "metadata": {},
   "outputs": [],
   "source": [
    "from sklearn.preprocessing import RobustScaler"
   ]
  },
  {
   "cell_type": "markdown",
   "id": "fedb0b74",
   "metadata": {},
   "source": [
    "#### Comparaison des différentes techniques de Scaling avec les données original."
   ]
  },
  {
   "cell_type": "code",
   "execution_count": 8,
   "id": "c882aaba",
   "metadata": {},
   "outputs": [],
   "source": [
    "X_array = np.array(dataset)"
   ]
  },
  {
   "cell_type": "code",
   "execution_count": 9,
   "id": "89d8d191",
   "metadata": {},
   "outputs": [],
   "source": [
    "X_minmax = MinMaxScaler().fit_transform(X_array)\n",
    "X_standard = StandardScaler().fit_transform(X_array)\n",
    "X_robust = RobustScaler().fit_transform(X_array)"
   ]
  },
  {
   "cell_type": "code",
   "execution_count": 10,
   "id": "f85977ca",
   "metadata": {
    "scrolled": false
   },
   "outputs": [
    {
     "data": {
      "text/plain": [
       "<matplotlib.legend.Legend at 0x7fc0905d3b20>"
      ]
     },
     "execution_count": 10,
     "metadata": {},
     "output_type": "execute_result"
    },
    {
     "data": {
      "image/png": "[encoded data removed]",
      "text/plain": [
       "<Figure size 640x480 with 1 Axes>"
      ]
     },
     "metadata": {},
     "output_type": "display_data"
    }
   ],
   "source": [
    "plt.scatter(X_array[:, 0], X_array[:, 1], label=\"Original\")\n",
    "plt.scatter(X_minmax[:, 0], X_minmax[:, 1], label=\"Minmax\")\n",
    "plt.scatter(X_standard[:, 0], X_standard[:, 1], label=\"Standard\")\n",
    "plt.scatter(X_robust[:, 0], X_robust[:, 1], label=\"Robust\")\n",
    "plt.legend()"
   ]
  },
  {
   "cell_type": "markdown",
   "id": "ab2024d4",
   "metadata": {},
   "source": [
    "## Scaling des données "
   ]
  },
  {
   "cell_type": "code",
   "execution_count": 11,
   "id": "ff8f9050",
   "metadata": {},
   "outputs": [
    {
     "data": {
      "text/html": [
       "<div>\n",
       "<style scoped>\n",
       "    .dataframe tbody tr th:only-of-type {\n",
       "        vertical-align: middle;\n",
       "    }\n",
       "\n",
       "    .dataframe tbody tr th {\n",
       "        vertical-align: top;\n",
       "    }\n",
       "\n",
       "    .dataframe thead th {\n",
       "        text-align: right;\n",
       "    }\n",
       "</style>\n",
       "<table border=\"1\" class=\"dataframe\">\n",
       "  <thead>\n",
       "    <tr style=\"text-align: right;\">\n",
       "      <th></th>\n",
       "      <th>longitude</th>\n",
       "      <th>latitude</th>\n",
       "      <th>Age moyen logement</th>\n",
       "      <th>Total pieces</th>\n",
       "      <th>Total chambres</th>\n",
       "      <th>Nb personne logement</th>\n",
       "      <th>Nb famille logement</th>\n",
       "      <th>Salaire median logement</th>\n",
       "      <th>Valeur moyenne logement</th>\n",
       "      <th>_&lt;1H OCEAN</th>\n",
       "      <th>_INLAND</th>\n",
       "      <th>_ISLAND</th>\n",
       "      <th>_NEAR BAY</th>\n",
       "      <th>_NEAR OCEAN</th>\n",
       "    </tr>\n",
       "  </thead>\n",
       "  <tbody>\n",
       "    <tr>\n",
       "      <th>0</th>\n",
       "      <td>-119.84</td>\n",
       "      <td>36.77</td>\n",
       "      <td>6.0</td>\n",
       "      <td>1853.0</td>\n",
       "      <td>473.0</td>\n",
       "      <td>1397.0</td>\n",
       "      <td>417.0</td>\n",
       "      <td>1.4817</td>\n",
       "      <td>72000.0</td>\n",
       "      <td>0</td>\n",
       "      <td>1</td>\n",
       "      <td>0</td>\n",
       "      <td>0</td>\n",
       "      <td>0</td>\n",
       "    </tr>\n",
       "    <tr>\n",
       "      <th>1</th>\n",
       "      <td>-117.80</td>\n",
       "      <td>33.68</td>\n",
       "      <td>8.0</td>\n",
       "      <td>2032.0</td>\n",
       "      <td>349.0</td>\n",
       "      <td>862.0</td>\n",
       "      <td>340.0</td>\n",
       "      <td>6.9133</td>\n",
       "      <td>274100.0</td>\n",
       "      <td>1</td>\n",
       "      <td>0</td>\n",
       "      <td>0</td>\n",
       "      <td>0</td>\n",
       "      <td>0</td>\n",
       "    </tr>\n",
       "    <tr>\n",
       "      <th>2</th>\n",
       "      <td>-120.19</td>\n",
       "      <td>36.60</td>\n",
       "      <td>25.0</td>\n",
       "      <td>875.0</td>\n",
       "      <td>214.0</td>\n",
       "      <td>931.0</td>\n",
       "      <td>214.0</td>\n",
       "      <td>1.5536</td>\n",
       "      <td>58300.0</td>\n",
       "      <td>0</td>\n",
       "      <td>1</td>\n",
       "      <td>0</td>\n",
       "      <td>0</td>\n",
       "      <td>0</td>\n",
       "    </tr>\n",
       "    <tr>\n",
       "      <th>3</th>\n",
       "      <td>-118.32</td>\n",
       "      <td>34.10</td>\n",
       "      <td>31.0</td>\n",
       "      <td>622.0</td>\n",
       "      <td>229.0</td>\n",
       "      <td>597.0</td>\n",
       "      <td>227.0</td>\n",
       "      <td>1.5284</td>\n",
       "      <td>200000.0</td>\n",
       "      <td>1</td>\n",
       "      <td>0</td>\n",
       "      <td>0</td>\n",
       "      <td>0</td>\n",
       "      <td>0</td>\n",
       "    </tr>\n",
       "    <tr>\n",
       "      <th>4</th>\n",
       "      <td>-121.23</td>\n",
       "      <td>37.79</td>\n",
       "      <td>21.0</td>\n",
       "      <td>1922.0</td>\n",
       "      <td>373.0</td>\n",
       "      <td>1130.0</td>\n",
       "      <td>372.0</td>\n",
       "      <td>4.0815</td>\n",
       "      <td>117900.0</td>\n",
       "      <td>0</td>\n",
       "      <td>1</td>\n",
       "      <td>0</td>\n",
       "      <td>0</td>\n",
       "      <td>0</td>\n",
       "    </tr>\n",
       "  </tbody>\n",
       "</table>\n",
       "</div>"
      ],
      "text/plain": [
       "   longitude  latitude  Age moyen logement  Total pieces  Total chambres  \\\n",
       "0    -119.84     36.77                 6.0        1853.0           473.0   \n",
       "1    -117.80     33.68                 8.0        2032.0           349.0   \n",
       "2    -120.19     36.60                25.0         875.0           214.0   \n",
       "3    -118.32     34.10                31.0         622.0           229.0   \n",
       "4    -121.23     37.79                21.0        1922.0           373.0   \n",
       "\n",
       "   Nb personne logement  Nb famille logement  Salaire median logement  \\\n",
       "0                1397.0                417.0                   1.4817   \n",
       "1                 862.0                340.0                   6.9133   \n",
       "2                 931.0                214.0                   1.5536   \n",
       "3                 597.0                227.0                   1.5284   \n",
       "4                1130.0                372.0                   4.0815   \n",
       "\n",
       "   Valeur moyenne logement  _<1H OCEAN  _INLAND  _ISLAND  _NEAR BAY  \\\n",
       "0                  72000.0           0        1        0          0   \n",
       "1                 274100.0           1        0        0          0   \n",
       "2                  58300.0           0        1        0          0   \n",
       "3                 200000.0           1        0        0          0   \n",
       "4                 117900.0           0        1        0          0   \n",
       "\n",
       "   _NEAR OCEAN  \n",
       "0            0  \n",
       "1            0  \n",
       "2            0  \n",
       "3            0  \n",
       "4            0  "
      ]
     },
     "execution_count": 11,
     "metadata": {},
     "output_type": "execute_result"
    }
   ],
   "source": [
    "dataset.head()"
   ]
  },
  {
   "cell_type": "markdown",
   "id": "755932f2",
   "metadata": {},
   "source": [
    "#### Choix des features & Scaling des données"
   ]
  },
  {
   "cell_type": "markdown",
   "id": "43f49a95",
   "metadata": {},
   "source": [
    "Fonction permettent de scaler les features choisis."
   ]
  },
  {
   "cell_type": "code",
   "execution_count": 12,
   "id": "1bc2d144",
   "metadata": {},
   "outputs": [],
   "source": [
    "def scaling(df, liste_delete=\"\", liste_1=0, liste_2=0, liste_3=0):  \n",
    "    # Suppression des features sélectionner.     \n",
    "    if not liste_delete == \"\":\n",
    "        df = df.drop(columns=liste_delete, axis=1)\n",
    "    # Préparation des algorithmes de Scaling     \n",
    "    minmax = MinMaxScaler()\n",
    "    robust = RobustScaler()    \n",
    "    standard = StandardScaler()\n",
    "    # Scaling des features sélectionner     \n",
    "    for i in liste_1:\n",
    "        minmax.fit_transform(df[[i]])\n",
    "    for i in liste_2:\n",
    "        robust.fit_transform(df[[i]])\n",
    "    for i in liste_3:\n",
    "        standard.fit_transform(df[[i]])          \n",
    "    return df"
   ]
  },
  {
   "cell_type": "markdown",
   "id": "b6e4a02d",
   "metadata": {},
   "source": [
    "Choix des features & l'algorirthme de scaling"
   ]
  },
  {
   "cell_type": "code",
   "execution_count": 13,
   "id": "e2900ed9",
   "metadata": {},
   "outputs": [],
   "source": [
    "minmax = []\n",
    "robust = [\"longitude\", \"latitude\", \"Valeur moyenne logement\", \"Age moyen logement\"]\n",
    "standard = [\"Total pieces\", \"Nb personne logement\", \"Salaire median logement\", \"Salaire median logement\"]\n",
    "liste_delete=[]"
   ]
  },
  {
   "cell_type": "markdown",
   "id": "5133f72a",
   "metadata": {},
   "source": [
    "On scale les données en appelent la fonction"
   ]
  },
  {
   "cell_type": "code",
   "execution_count": 14,
   "id": "2506d0ea",
   "metadata": {
    "scrolled": false
   },
   "outputs": [
    {
     "data": {
      "text/html": [
       "<div>\n",
       "<style scoped>\n",
       "    .dataframe tbody tr th:only-of-type {\n",
       "        vertical-align: middle;\n",
       "    }\n",
       "\n",
       "    .dataframe tbody tr th {\n",
       "        vertical-align: top;\n",
       "    }\n",
       "\n",
       "    .dataframe thead th {\n",
       "        text-align: right;\n",
       "    }\n",
       "</style>\n",
       "<table border=\"1\" class=\"dataframe\">\n",
       "  <thead>\n",
       "    <tr style=\"text-align: right;\">\n",
       "      <th></th>\n",
       "      <th>longitude</th>\n",
       "      <th>latitude</th>\n",
       "      <th>Age moyen logement</th>\n",
       "      <th>Total pieces</th>\n",
       "      <th>Total chambres</th>\n",
       "      <th>Nb personne logement</th>\n",
       "      <th>Nb famille logement</th>\n",
       "      <th>Salaire median logement</th>\n",
       "      <th>Valeur moyenne logement</th>\n",
       "      <th>_&lt;1H OCEAN</th>\n",
       "      <th>_INLAND</th>\n",
       "      <th>_ISLAND</th>\n",
       "      <th>_NEAR BAY</th>\n",
       "      <th>_NEAR OCEAN</th>\n",
       "    </tr>\n",
       "  </thead>\n",
       "  <tbody>\n",
       "    <tr>\n",
       "      <th>0</th>\n",
       "      <td>-119.84</td>\n",
       "      <td>36.77</td>\n",
       "      <td>6.0</td>\n",
       "      <td>1853.0</td>\n",
       "      <td>473.0</td>\n",
       "      <td>1397.0</td>\n",
       "      <td>417.0</td>\n",
       "      <td>1.4817</td>\n",
       "      <td>72000.0</td>\n",
       "      <td>0</td>\n",
       "      <td>1</td>\n",
       "      <td>0</td>\n",
       "      <td>0</td>\n",
       "      <td>0</td>\n",
       "    </tr>\n",
       "    <tr>\n",
       "      <th>1</th>\n",
       "      <td>-117.80</td>\n",
       "      <td>33.68</td>\n",
       "      <td>8.0</td>\n",
       "      <td>2032.0</td>\n",
       "      <td>349.0</td>\n",
       "      <td>862.0</td>\n",
       "      <td>340.0</td>\n",
       "      <td>6.9133</td>\n",
       "      <td>274100.0</td>\n",
       "      <td>1</td>\n",
       "      <td>0</td>\n",
       "      <td>0</td>\n",
       "      <td>0</td>\n",
       "      <td>0</td>\n",
       "    </tr>\n",
       "    <tr>\n",
       "      <th>2</th>\n",
       "      <td>-120.19</td>\n",
       "      <td>36.60</td>\n",
       "      <td>25.0</td>\n",
       "      <td>875.0</td>\n",
       "      <td>214.0</td>\n",
       "      <td>931.0</td>\n",
       "      <td>214.0</td>\n",
       "      <td>1.5536</td>\n",
       "      <td>58300.0</td>\n",
       "      <td>0</td>\n",
       "      <td>1</td>\n",
       "      <td>0</td>\n",
       "      <td>0</td>\n",
       "      <td>0</td>\n",
       "    </tr>\n",
       "  </tbody>\n",
       "</table>\n",
       "</div>"
      ],
      "text/plain": [
       "   longitude  latitude  Age moyen logement  Total pieces  Total chambres  \\\n",
       "0    -119.84     36.77                 6.0        1853.0           473.0   \n",
       "1    -117.80     33.68                 8.0        2032.0           349.0   \n",
       "2    -120.19     36.60                25.0         875.0           214.0   \n",
       "\n",
       "   Nb personne logement  Nb famille logement  Salaire median logement  \\\n",
       "0                1397.0                417.0                   1.4817   \n",
       "1                 862.0                340.0                   6.9133   \n",
       "2                 931.0                214.0                   1.5536   \n",
       "\n",
       "   Valeur moyenne logement  _<1H OCEAN  _INLAND  _ISLAND  _NEAR BAY  \\\n",
       "0                  72000.0           0        1        0          0   \n",
       "1                 274100.0           1        0        0          0   \n",
       "2                  58300.0           0        1        0          0   \n",
       "\n",
       "   _NEAR OCEAN  \n",
       "0            0  \n",
       "1            0  \n",
       "2            0  "
      ]
     },
     "execution_count": 14,
     "metadata": {},
     "output_type": "execute_result"
    }
   ],
   "source": [
    "df_scaling = scaling(dataset, liste_delete=liste_delete, liste_1=minmax, liste_2=robust, liste_3=standard)\n",
    "df_scaling.head(3)"
   ]
  },
  {
   "cell_type": "markdown",
   "id": "cacf95ec",
   "metadata": {},
   "source": [
    "#### Suppression des Outliers par la moyenne et l'écart-type"
   ]
  },
  {
   "cell_type": "code",
   "execution_count": null,
   "id": "b571d61f",
   "metadata": {},
   "outputs": [],
   "source": [
    "def remove_outliers(df, list_columns):\n",
    "    for i in list_columns:\n",
    "        mean = df[i].mean()\n",
    "        std = df[i].std()\n",
    "        outliers = df[(df[i] - mean).abs() > 3*std]\n",
    "        new_df = df.drop(outliers.index)\n",
    "    return clean_df"
   ]
  },
  {
   "cell_type": "markdown",
   "id": "0efbe342",
   "metadata": {},
   "source": [
    "## Test du Modèle"
   ]
  },
  {
   "cell_type": "markdown",
   "id": "df0f005c",
   "metadata": {},
   "source": [
    "Division du dataset en 2 partie & conversion en np.array : X & Y"
   ]
  },
  {
   "cell_type": "code",
   "execution_count": 34,
   "id": "1e17ab86",
   "metadata": {},
   "outputs": [],
   "source": [
    "delete_column = []"
   ]
  },
  {
   "cell_type": "code",
   "execution_count": 53,
   "id": "311299bc",
   "metadata": {},
   "outputs": [],
   "source": [
    "def regression_lineair(df, delete_column=\"\", outliers=False):\n",
    "    \n",
    "    # Préparation du dataset final (on remet les catégories, on sépare la Target...)    \n",
    "    categorie = dataset[[\"_<1H OCEAN\",\"_INLAND\",\"_ISLAND\",\"_NEAR BAY\",\"_NEAR OCEAN\"]]\n",
    "    Y = df[[\"Valeur moyenne logement\"]]\n",
    "    X = df.drop(columns=[\"Valeur moyenne logement\"], axis=1)\n",
    "    X = pd.concat([X, categorie], axis=1)\n",
    "    \n",
    "    # Suppression des features sélectionner.     \n",
    "    if not delete_column == \"\":\n",
    "        df = X.drop(columns=delete_column, axis=1)\n",
    "    \n",
    "    # Suppression des outliers & Evaluation du modèle\n",
    "    if outliers :\n",
    "        X_clean = remove_outliers(X, [\"longitude\", \"latitude\", \"Age moyen logement\"])\n",
    "        Y_clean = remove_outliers(Y, [\"Valeur moyenne logement\"])\n",
    "        score = cross_val_score(LinearRegression(), X_clean, Y_clean, cv=5).mean()\n",
    "    else:\n",
    "        score = cross_val_score(LinearRegression(), X, Y, cv=5).mean()\n",
    "            \n",
    "    # On retourne le résultat     \n",
    "    return score"
   ]
  },
  {
   "cell_type": "code",
   "execution_count": 54,
   "id": "a56d2696",
   "metadata": {
    "scrolled": true
   },
   "outputs": [
    {
     "name": "stdout",
     "output_type": "stream",
     "text": [
      "Résultat du Modèle : 0.6451464349194729\n"
     ]
    }
   ],
   "source": [
    "print(f\"Résultat du Modèle : {regression_lineair(dataset, outliers=False)}\")"
   ]
  },
  {
   "cell_type": "code",
   "execution_count": null,
   "id": "b9f81511",
   "metadata": {},
   "outputs": [],
   "source": []
  }
 ],
 "metadata": {
  "kernelspec": {
   "display_name": "Python 3 (ipykernel)",
   "language": "python",
   "name": "python3"
  },
  "language_info": {
   "codemirror_mode": {
    "name": "ipython",
    "version": 3
   },
   "file_extension": ".py",
   "mimetype": "text/x-python",
   "name": "python",
   "nbconvert_exporter": "python",
   "pygments_lexer": "ipython3",
   "version": "3.8.12"
  },
  "toc": {
   "base_numbering": 1,
   "nav_menu": {},
   "number_sections": true,
   "sideBar": true,
   "skip_h1_title": false,
   "title_cell": "Table of Contents",
   "title_sidebar": "Contents",
   "toc_cell": false,
   "toc_position": {},
   "toc_section_display": true,
   "toc_window_display": false
  }
 },
 "nbformat": 4,
 "nbformat_minor": 5
}
